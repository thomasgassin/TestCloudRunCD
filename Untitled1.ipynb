{
 "cells": [
  {
   "cell_type": "code",
   "execution_count": 1,
   "id": "4dad1b67",
   "metadata": {},
   "outputs": [
    {
     "name": "stderr",
     "output_type": "stream",
     "text": [
      "2022-02-26 17:34:57.269959: W tensorflow/stream_executor/platform/default/dso_loader.cc:64] Could not load dynamic library 'libcudart.so.11.0'; dlerror: libcudart.so.11.0: cannot open shared object file: No such file or directory\n",
      "2022-02-26 17:34:57.270032: I tensorflow/stream_executor/cuda/cudart_stub.cc:29] Ignore above cudart dlerror if you do not have a GPU set up on your machine.\n"
     ]
    }
   ],
   "source": [
    "from fastapi import FastAPI\n",
    "from fastapi import FastAPI\n",
    "from fastapi.middleware.cors import CORSMiddleware\n",
    "import pandas as pd\n",
    "import numpy as np\n",
    "import joblib\n",
    "import tensorflow as tf\n",
    "import pickle\n",
    "from io import BytesIO"
   ]
  },
  {
   "cell_type": "code",
   "execution_count": 5,
   "id": "dd9dc1dc",
   "metadata": {},
   "outputs": [],
   "source": [
    " dictionnary= {  \"latitude\" : 51.50344025 ,\n",
    "                        \"longitude\" : -0.12770820958562096 ,\n",
    "                        \"accomodates\":2,\n",
    "                        \"bedrooms\" : 2 , \n",
    "                        \"beds\" : 1,\n",
    "                        \"minimum_nights\" : 1 , \n",
    "                        \"Entire_home_apt\" : 1\n",
    "                    }"
   ]
  },
  {
   "cell_type": "code",
   "execution_count": 12,
   "id": "4096a1ea",
   "metadata": {},
   "outputs": [],
   "source": [
    "X_to_predict = pd.DataFrame.from_dict(dictionnary,orient=\"index\")\n"
   ]
  },
  {
   "cell_type": "code",
   "execution_count": 7,
   "id": "caeff75e",
   "metadata": {},
   "outputs": [],
   "source": [
    "gcs_path = 'gs://airbnbadvice/model/model_rf_price_log.pkl'\n",
    "loaded_model = joblib.load(tf.io.gfile.GFile(gcs_path, 'rb'))"
   ]
  },
  {
   "cell_type": "code",
   "execution_count": 13,
   "id": "d4eb2adc",
   "metadata": {},
   "outputs": [
    {
     "name": "stderr",
     "output_type": "stream",
     "text": [
      "/home/thomas/.pyenv/versions/3.8.12/envs/airbnb_project/lib/python3.8/site-packages/sklearn/base.py:493: FutureWarning: The feature names should match those that were passed during fit. Starting version 1.2, an error will be raised.\n",
      "Feature names unseen at fit time:\n",
      "- accomodates\n",
      "Feature names seen at fit time, yet now missing:\n",
      "- accommodates\n",
      "\n",
      "  warnings.warn(message, FutureWarning)\n"
     ]
    },
    {
     "data": {
      "text/plain": [
       "array([391.31194684])"
      ]
     },
     "execution_count": 13,
     "metadata": {},
     "output_type": "execute_result"
    }
   ],
   "source": [
    "predicted_fare_log = loaded_model.predict(X_to_predict.T)\n",
    "np.exp(predicted_fare_log)"
   ]
  },
  {
   "cell_type": "code",
   "execution_count": 14,
   "id": "a4112564",
   "metadata": {},
   "outputs": [
    {
     "data": {
      "text/html": [
       "<div>\n",
       "<style scoped>\n",
       "    .dataframe tbody tr th:only-of-type {\n",
       "        vertical-align: middle;\n",
       "    }\n",
       "\n",
       "    .dataframe tbody tr th {\n",
       "        vertical-align: top;\n",
       "    }\n",
       "\n",
       "    .dataframe thead th {\n",
       "        text-align: right;\n",
       "    }\n",
       "</style>\n",
       "<table border=\"1\" class=\"dataframe\">\n",
       "  <thead>\n",
       "    <tr style=\"text-align: right;\">\n",
       "      <th></th>\n",
       "      <th>latitude</th>\n",
       "      <th>longitude</th>\n",
       "      <th>accomodates</th>\n",
       "      <th>bedrooms</th>\n",
       "      <th>beds</th>\n",
       "      <th>minimum_nights</th>\n",
       "      <th>Entire_home_apt</th>\n",
       "    </tr>\n",
       "  </thead>\n",
       "  <tbody>\n",
       "    <tr>\n",
       "      <th>0</th>\n",
       "      <td>51.50344</td>\n",
       "      <td>-0.127708</td>\n",
       "      <td>2.0</td>\n",
       "      <td>2.0</td>\n",
       "      <td>1.0</td>\n",
       "      <td>1.0</td>\n",
       "      <td>1.0</td>\n",
       "    </tr>\n",
       "  </tbody>\n",
       "</table>\n",
       "</div>"
      ],
      "text/plain": [
       "   latitude  longitude  accomodates  bedrooms  beds  minimum_nights  \\\n",
       "0  51.50344  -0.127708          2.0       2.0   1.0             1.0   \n",
       "\n",
       "   Entire_home_apt  \n",
       "0              1.0  "
      ]
     },
     "execution_count": 14,
     "metadata": {},
     "output_type": "execute_result"
    }
   ],
   "source": [
    "X_to_predict.T"
   ]
  },
  {
   "cell_type": "code",
   "execution_count": 15,
   "id": "0c77a019",
   "metadata": {},
   "outputs": [
    {
     "name": "stderr",
     "output_type": "stream",
     "text": [
      "/home/thomas/.pyenv/versions/3.8.12/envs/airbnb_project/lib/python3.8/site-packages/sklearn/base.py:493: FutureWarning: The feature names should match those that were passed during fit. Starting version 1.2, an error will be raised.\n",
      "Feature names unseen at fit time:\n",
      "- accomodates\n",
      "Feature names seen at fit time, yet now missing:\n",
      "- accommodates\n",
      "\n",
      "  warnings.warn(message, FutureWarning)\n"
     ]
    }
   ],
   "source": [
    "predicted_fare = loaded_model.predict(X_to_predict.T)"
   ]
  },
  {
   "cell_type": "code",
   "execution_count": 16,
   "id": "cd6e24ac",
   "metadata": {},
   "outputs": [
    {
     "data": {
      "text/plain": [
       "array([5.96950506])"
      ]
     },
     "execution_count": 16,
     "metadata": {},
     "output_type": "execute_result"
    }
   ],
   "source": [
    "predicted_fare"
   ]
  },
  {
   "cell_type": "code",
   "execution_count": 17,
   "id": "0c1d322a",
   "metadata": {},
   "outputs": [
    {
     "data": {
      "text/plain": [
       "array([391.31194684])"
      ]
     },
     "execution_count": 17,
     "metadata": {},
     "output_type": "execute_result"
    }
   ],
   "source": [
    "np.exp(predicted_fare)"
   ]
  },
  {
   "cell_type": "code",
   "execution_count": null,
   "id": "4ab57850",
   "metadata": {},
   "outputs": [],
   "source": []
  }
 ],
 "metadata": {
  "kernelspec": {
   "display_name": "Python 3 (ipykernel)",
   "language": "python",
   "name": "python3"
  },
  "language_info": {
   "codemirror_mode": {
    "name": "ipython",
    "version": 3
   },
   "file_extension": ".py",
   "mimetype": "text/x-python",
   "name": "python",
   "nbconvert_exporter": "python",
   "pygments_lexer": "ipython3",
   "version": "3.8.12"
  },
  "toc": {
   "base_numbering": 1,
   "nav_menu": {},
   "number_sections": true,
   "sideBar": true,
   "skip_h1_title": false,
   "title_cell": "Table of Contents",
   "title_sidebar": "Contents",
   "toc_cell": false,
   "toc_position": {},
   "toc_section_display": true,
   "toc_window_display": false
  }
 },
 "nbformat": 4,
 "nbformat_minor": 5
}
